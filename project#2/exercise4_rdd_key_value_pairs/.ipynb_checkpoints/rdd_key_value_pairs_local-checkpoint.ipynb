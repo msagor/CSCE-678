{
 "cells": [
  {
   "cell_type": "markdown",
   "metadata": {},
   "source": [
    "# Working with key/value pair RDDs"
   ]
  },
  {
   "cell_type": "markdown",
   "metadata": {},
   "source": [
    "**NOTE: This notebook is worth 10% of the grade of project 2.**"
   ]
  },
  {
   "cell_type": "markdown",
   "metadata": {},
   "source": [
    "[Introduction to Spark with Python, by Jose A. Dianes](https://github.com/jadianes/spark-py-notebooks)"
   ]
  },
  {
   "cell_type": "markdown",
   "metadata": {},
   "source": [
    "Spark provides specific functions to deal with RDDs which elements are key/value pairs. They are usually used to perform aggregations and other processings by key.  "
   ]
  },
  {
   "cell_type": "markdown",
   "metadata": {},
   "source": [
    "In this notebook we will show how, by working with key/value pairs, we can process our network interactions dataset in a more practical and powerful way than that used in previous notebooks. Key/value pair aggregations will show to be particularly effective when trying to explore each type of tag in our network attacks, in an individual way.  "
   ]
  },
  {
   "cell_type": "markdown",
   "metadata": {},
   "source": [
    "## Getting the data and creating the RDD"
   ]
  },
  {
   "cell_type": "markdown",
   "metadata": {},
   "source": [
    "In this notebook we will use the reduced dataset (1 percent) provided for the KDD Cup 1999, containing nearly half million network interactions. The file is provided as a *Gzip* file in the local directory.  "
   ]
  },
  {
   "cell_type": "code",
   "execution_count": 1,
   "metadata": {},
   "outputs": [],
   "source": [
    "\n",
    "import os\n",
    "import gzip\n",
    "data_file = os.getcwd() + \"/../kddcup.data_1_percent.gz\"\n",
    "# TODO: read the textFile from 'data_file' into 'raw_data'. Hint: use sc.textFile(<local path>) \n",
    "with gzip.open(data_file, \"rt\") as f:\n",
    "    raw_data = [row.strip() for row in f.readlines()]"
   ]
  },
  {
   "cell_type": "markdown",
   "metadata": {},
   "source": [
    "## Creating a pair RDD for interaction types"
   ]
  },
  {
   "cell_type": "markdown",
   "metadata": {},
   "source": [
    "In this notebook we want to do some exploratory data analysis on our network interactions dataset. More concretely we want to profile each network interaction type in terms of some of its variables such as duration. In order to do so, we first need to create the RDD suitable for that, where each interaction is parsed as a CSV row representing the value, and is put together with its corresponding tag as a key.  "
   ]
  },
  {
   "cell_type": "markdown",
   "metadata": {},
   "source": [
    "Normally we create key/value pair RDDs by applying a function using `map` to the original data. This function returns the corresponding pair for a given RDD element. We can proceed as follows.  "
   ]
  },
  {
   "cell_type": "code",
   "execution_count": 2,
   "metadata": {},
   "outputs": [
    {
     "name": "stdout",
     "output_type": "stream",
     "text": [
      "('smurf.', ['0', 'icmp', 'ecr_i', 'SF', '1032', '0', '0', '0', '0', '0', '0', '0', '0', '0', '0', '0', '0', '0', '0', '0', '0', '0', '511', '511', '0.00', '0.00', '0.00', '0.00', '1.00', '0.00', '0.00', '255', '255', '1.00', '0.00', '1.00', '0.00', '0.00', '0.00', '0.00', '0.00', 'smurf.'])\n",
      "<class 'list'>\n",
      "The correct answer should be a RDD object\n"
     ]
    }
   ],
   "source": [
    "csv_data = [row.split(\",\") for row in raw_data]\n",
    "# TODO: From each row of the data, generate a key-value pair. The key will be the tag and the value will be the CSV data.\n",
    "# HINT: x[41] contains the network interaction tag\n",
    "key_value_data = [(row[41], row) for row in csv_data]\n",
    "print(key_value_data[41])\n",
    "print(type(key_value_data))\n",
    "print(\"The correct answer should be a RDD object\")"
   ]
  },
  {
   "cell_type": "markdown",
   "metadata": {},
   "source": [
    "We have now our key/value pair data ready to be used. Let's get the first element in order to see how it looks like.  "
   ]
  },
  {
   "cell_type": "code",
   "execution_count": 3,
   "metadata": {},
   "outputs": [
    {
     "data": {
      "text/plain": [
       "('normal.',\n",
       " ['0',\n",
       "  'udp',\n",
       "  'private',\n",
       "  'SF',\n",
       "  '105',\n",
       "  '0',\n",
       "  '0',\n",
       "  '0',\n",
       "  '0',\n",
       "  '0',\n",
       "  '0',\n",
       "  '0',\n",
       "  '0',\n",
       "  '0',\n",
       "  '0',\n",
       "  '0',\n",
       "  '0',\n",
       "  '0',\n",
       "  '0',\n",
       "  '0',\n",
       "  '0',\n",
       "  '0',\n",
       "  '2',\n",
       "  '2',\n",
       "  '0.00',\n",
       "  '0.00',\n",
       "  '0.00',\n",
       "  '0.00',\n",
       "  '1.00',\n",
       "  '0.00',\n",
       "  '0.00',\n",
       "  '255',\n",
       "  '241',\n",
       "  '0.95',\n",
       "  '0.01',\n",
       "  '0.01',\n",
       "  '0.00',\n",
       "  '0.00',\n",
       "  '0.00',\n",
       "  '0.00',\n",
       "  '0.00',\n",
       "  'normal.'])"
      ]
     },
     "execution_count": 3,
     "metadata": {},
     "output_type": "execute_result"
    }
   ],
   "source": [
    "key_value_data[0]"
   ]
  },
  {
   "cell_type": "markdown",
   "metadata": {},
   "source": [
    "## Data aggregations with key/value pair RDDs"
   ]
  },
  {
   "cell_type": "markdown",
   "metadata": {},
   "source": [
    "We can use all the transformations and actions available for normal RDDs with key/value pair RDDs. We just need to make the functions work with pair elements. Additionally, Spark provides specific functions to work with RDDs containing pair elements. They are very similar to those available for general RDDs.  "
   ]
  },
  {
   "cell_type": "markdown",
   "metadata": {},
   "source": [
    "For example, we have a `reduceByKey` transformation that we can use as follows to calculate the total duration of each network interaction type.  "
   ]
  },
  {
   "cell_type": "code",
   "execution_count": 4,
   "metadata": {},
   "outputs": [
    {
     "data": {
      "text/plain": [
       "[('loadmodule.', 103.0),\n",
       " ('teardrop.', 0.0),\n",
       " ('back.', 48.0),\n",
       " ('nmap.', 0.0),\n",
       " ('land.', 0.0),\n",
       " ('smurf.', 0.0),\n",
       " ('portsweep.', 250025.0),\n",
       " ('ipsweep.', 0.0),\n",
       " ('warezclient.', 88429.0),\n",
       " ('guess_passwd.', 0.0),\n",
       " ('normal.', 2127905.0),\n",
       " ('imap.', 0.0),\n",
       " ('satan.', 12.0),\n",
       " ('buffer_overflow.', 237.0),\n",
       " ('neptune.', 0.0),\n",
       " ('warezmaster.', 19.0),\n",
       " ('pod.', 0.0)]"
      ]
     },
     "execution_count": 4,
     "metadata": {},
     "output_type": "execute_result"
    }
   ],
   "source": [
    "key_value_duration = [(row[41], float(row[0])) for row in csv_data] \n",
    "# TODO: Aggregate the durations of network interactions which have the same key (i.e., tag) \n",
    "# HINT: The argument of reduceByKey is a lambda which takes two values and returns the reduced result.\n",
    "durations_by_key = []\n",
    "for key in list(set([row[0] for row in key_value_duration])):\n",
    "    durations_by_key.append((key, sum([row[1] for row in key_value_duration if row[0] == key])))\n",
    "\n",
    "durations_by_key"
   ]
  },
  {
   "cell_type": "markdown",
   "metadata": {},
   "source": [
    "We have a specific counting action for key/value pairs.  "
   ]
  },
  {
   "cell_type": "code",
   "execution_count": 5,
   "metadata": {},
   "outputs": [
    {
     "data": {
      "text/plain": [
       "[('loadmodule.', 1),\n",
       " ('teardrop.', 92),\n",
       " ('back.', 195),\n",
       " ('nmap.', 24),\n",
       " ('land.', 3),\n",
       " ('smurf.', 28219),\n",
       " ('portsweep.', 85),\n",
       " ('ipsweep.', 134),\n",
       " ('warezclient.', 103),\n",
       " ('guess_passwd.', 5),\n",
       " ('normal.', 9641),\n",
       " ('imap.', 1),\n",
       " ('satan.', 161),\n",
       " ('buffer_overflow.', 3),\n",
       " ('neptune.', 10704),\n",
       " ('warezmaster.', 3),\n",
       " ('pod.', 28)]"
      ]
     },
     "execution_count": 5,
     "metadata": {},
     "output_type": "execute_result"
    }
   ],
   "source": [
    "# TODO: count the number of rows for each key\n",
    "counts_by_key = []\n",
    "for key in list(set([row[0] for row in key_value_duration])):\n",
    "    counts_by_key.append((key, len([row[1] for row in key_value_duration if row[0] == key])))\n",
    "\n",
    "counts_by_key"
   ]
  },
  {
   "cell_type": "markdown",
   "metadata": {},
   "source": [
    "### Using `combineByKey`"
   ]
  },
  {
   "cell_type": "markdown",
   "metadata": {},
   "source": [
    "This is the most general of the per-key aggregation functions. Most of the other per-key combiners are implemented using it. We can think about it as the `aggregate` equivalent since it allows the user to return values that are not the same type as our input data."
   ]
  },
  {
   "cell_type": "markdown",
   "metadata": {},
   "source": [
    "`combineByKey` is essentially a combination of `map` and `reduce`. `combineByKey` requires three lambda functions as arguments:\n",
    "  - **createCombiner**: Given a value V, return a combination of values or tuples\n",
    "  - **mergeValue**: Given a combination C and a value V, returns a combination of values or tuples\n",
    "  - **mergeCombiners**: Given two combinations C1 and C2, returns a combination of values or tuples"
   ]
  },
  {
   "cell_type": "markdown",
   "metadata": {},
   "source": [
    "For example, we can use it to calculate per-type average durations as follows.  "
   ]
  },
  {
   "cell_type": "code",
   "execution_count": 6,
   "metadata": {},
   "outputs": [
    {
     "data": {
      "text/plain": [
       "{'back.': (48.0, 195),\n",
       " 'buffer_overflow.': (237.0, 3),\n",
       " 'guess_passwd.': (0.0, 5),\n",
       " 'imap.': (0.0, 1),\n",
       " 'ipsweep.': (0.0, 134),\n",
       " 'land.': (0.0, 3),\n",
       " 'loadmodule.': (103.0, 1),\n",
       " 'neptune.': (0.0, 10704),\n",
       " 'nmap.': (0.0, 24),\n",
       " 'normal.': (2127905.0, 9641),\n",
       " 'pod.': (0.0, 28),\n",
       " 'portsweep.': (250025.0, 85),\n",
       " 'satan.': (12.0, 161),\n",
       " 'smurf.': (0.0, 28219),\n",
       " 'teardrop.': (0.0, 92),\n",
       " 'warezclient.': (88429.0, 103),\n",
       " 'warezmaster.': (19.0, 3)}"
      ]
     },
     "execution_count": 6,
     "metadata": {},
     "output_type": "execute_result"
    }
   ],
   "source": [
    "# TODO: generate `sum_counts` as to sum up the elements of the same key, and for each key, to return a tuple of (sum, count).\n",
    "# sum_counts = key_value_duration.combineByKey(\n",
    "#     ..., # createCombiner: V -> (V, 1)\n",
    "#     ..., # mergeValue: C, V -> (C[0] + V, C[1] + 1)\n",
    "#     ..., # mergeCombiners: C1, C2 -> (C1[0] + C2[0], C1[1] + C2[1])\n",
    "# )\n",
    "\n",
    "sum_counts = []\n",
    "for key in list(set([row[0] for row in key_value_duration])):\n",
    "    list_by_key = [row[1] for row in key_value_duration if row[0] == key]\n",
    "    sum_counts.append((key, (sum(list_by_key), len(list_by_key))))\n",
    "\n",
    "dict(sum_counts)"
   ]
  },
  {
   "cell_type": "markdown",
   "metadata": {},
   "source": [
    "We can see that the arguments are pretty similar to those passed to `aggregate` in the previous notebook. The result associated to each type is in the form of a pair. If we want to actually get the averages, we need to do the division before collecting the results.  "
   ]
  },
  {
   "cell_type": "code",
   "execution_count": 7,
   "metadata": {},
   "outputs": [
    {
     "name": "stdout",
     "output_type": "stream",
     "text": [
      "portsweep.: 2941.470588235294\n",
      "warezclient.: 858.5339805825242\n",
      "normal.: 220.71413753759984\n",
      "loadmodule.: 103.0\n",
      "buffer_overflow.: 79.0\n",
      "warezmaster.: 6.333333333333333\n",
      "back.: 0.24615384615384617\n",
      "satan.: 0.07453416149068323\n",
      "nmap.: 0.0\n",
      "land.: 0.0\n",
      "guess_passwd.: 0.0\n",
      "ipsweep.: 0.0\n",
      "smurf.: 0.0\n",
      "pod.: 0.0\n",
      "imap.: 0.0\n",
      "neptune.: 0.0\n",
      "teardrop.: 0.0\n"
     ]
    }
   ],
   "source": [
    "\n",
    "# TODO: create a RDD 'duration_means_by_type' by mapping each key-value pair of `sum_counts` as the key and the duration mean\n",
    "# HINT: duration mean = sum / count\n",
    "duration_means_by_type = dict([(key, sum / count) for (key, (sum, count)) in sum_counts])\n",
    "\n",
    "# Print them sorted\n",
    "for tag, _ in sorted(duration_means_by_type.items(), key=lambda tup: tup[1], reverse=True):\n",
    "    print(tag + \": \" + str(duration_means_by_type[tag]))"
   ]
  },
  {
   "cell_type": "markdown",
   "metadata": {},
   "source": [
    "A small step into understanding what makes a network interaction be considered an attack."
   ]
  },
  {
   "cell_type": "code",
   "execution_count": null,
   "metadata": {},
   "outputs": [],
   "source": []
  },
  {
   "cell_type": "code",
   "execution_count": null,
   "metadata": {},
   "outputs": [],
   "source": []
  },
  {
   "cell_type": "code",
   "execution_count": null,
   "metadata": {},
   "outputs": [],
   "source": []
  },
  {
   "cell_type": "code",
   "execution_count": null,
   "metadata": {},
   "outputs": [],
   "source": []
  }
 ],
 "metadata": {
  "kernelspec": {
   "display_name": "Python 3",
   "language": "python",
   "name": "python3"
  },
  "language_info": {
   "codemirror_mode": {
    "name": "ipython",
    "version": 3
   },
   "file_extension": ".py",
   "mimetype": "text/x-python",
   "name": "python",
   "nbconvert_exporter": "python",
   "pygments_lexer": "ipython3",
   "version": "3.5.2"
  }
 },
 "nbformat": 4,
 "nbformat_minor": 1
}
